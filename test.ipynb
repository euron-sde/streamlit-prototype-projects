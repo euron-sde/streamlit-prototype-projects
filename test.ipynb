{
 "cells": [
  {
   "cell_type": "code",
   "execution_count": 2,
   "metadata": {},
   "outputs": [],
   "source": [
    "import os\n",
    "import motor.motor_asyncio\n",
    "from bson.objectid import ObjectId\n",
    "\n",
    "client = motor.motor_asyncio.AsyncIOMotorClient(os.getenv(\"MONGODB_URI\"))"
   ]
  },
  {
   "cell_type": "code",
   "execution_count": 3,
   "metadata": {},
   "outputs": [],
   "source": [
    "project_name = \"streamlit-prototype-projects\"\n",
    "db = client[f'{project_name}']"
   ]
  },
  {
   "cell_type": "code",
   "execution_count": 4,
   "metadata": {},
   "outputs": [
    {
     "data": {
      "text/plain": [
       "['streamlit-prototype-projects', 'admin', 'local']"
      ]
     },
     "execution_count": 4,
     "metadata": {},
     "output_type": "execute_result"
    }
   ],
   "source": [
    "await client.list_database_names()"
   ]
  },
  {
   "cell_type": "code",
   "execution_count": 5,
   "metadata": {},
   "outputs": [],
   "source": [
    "collection = db['messages']"
   ]
  },
  {
   "cell_type": "code",
   "execution_count": 11,
   "metadata": {},
   "outputs": [],
   "source": [
    "from pydantic import BaseModel\n",
    "import datetime\n",
    "\n",
    "\n",
    "class User(BaseModel):\n",
    "    name: str\n",
    "    email: str\n",
    "    password: str\n",
    "    courses: list[str]\n",
    "    created_at: datetime.datetime\n",
    "    updated_at: datetime.datetime\n",
    "\n",
    "\n",
    "async def save_user(user: User):\n",
    "    user_data = user.dict()\n",
    "    await db['users'].insert_one(user_data)\n",
    "    return user_data\n",
    "\n",
    "async def get_user(user_id: str):\n",
    "    return await db['users'].find_one({\"_id\": ObjectId(user_id)})"
   ]
  },
  {
   "cell_type": "code",
   "execution_count": 12,
   "metadata": {},
   "outputs": [],
   "source": [
    "class AddMessage(BaseModel):\n",
    "    role: str\n",
    "    user_id: str\n",
    "    message: str\n",
    "    created_at: datetime.datetime\n",
    "    updated_at: datetime.datetime"
   ]
  },
  {
   "cell_type": "code",
   "execution_count": 14,
   "metadata": {},
   "outputs": [],
   "source": [
    "user = User.model_validate({\"name\": \"Ayush\", \"email\": \"ayush@gmail.com\", \"password\": \"password\",\n",
    "                           \"courses\": [\"1\", \"2\"], \"created_at\": datetime.datetime.utcnow(), \"updated_at\": datetime.datetime.utcnow()})"
   ]
  },
  {
   "cell_type": "code",
   "execution_count": 10,
   "metadata": {},
   "outputs": [
    {
     "data": {
      "text/plain": [
       "'Ayush'"
      ]
     },
     "execution_count": 10,
     "metadata": {},
     "output_type": "execute_result"
    }
   ],
   "source": [
    "save_user(user)"
   ]
  },
  {
   "cell_type": "code",
   "execution_count": 8,
   "metadata": {},
   "outputs": [],
   "source": [
    "async def save_user_message(role: str, user_id: str, message: str):\n",
    "    if role not in [\"system\", \"assistant\", \"user\"]:\n",
    "        raise ValueError(\"Invalid role. Role must be one of 'system', 'assistant', or 'user'.\")\n",
    "\n",
    "    message_data = {\n",
    "        \"role\": role,\n",
    "        \"user_id\": (user_id),\n",
    "        \"message\": message,\n",
    "        \"created_at\": datetime.datetime.utcnow(),\n",
    "        \"updated_at\": datetime.datetime.utcnow()\n",
    "    }\n",
    "\n",
    "    await db['messages'].insert_one(message_data)\n",
    "    return message_data"
   ]
  },
  {
   "cell_type": "code",
   "execution_count": 10,
   "metadata": {},
   "outputs": [
    {
     "data": {
      "text/plain": [
       "{'role': 'system',\n",
       " 'user_id': '123',\n",
       " 'message': 'Hello',\n",
       " 'created_at': datetime.datetime(2024, 6, 27, 9, 42, 41, 408045),\n",
       " 'updated_at': datetime.datetime(2024, 6, 27, 9, 42, 41, 408045),\n",
       " '_id': ObjectId('667d3411b57a98714d63d23d')}"
      ]
     },
     "execution_count": 10,
     "metadata": {},
     "output_type": "execute_result"
    }
   ],
   "source": [
    "await save_user_message(\"user\", \"123\", \"Hello\")"
   ]
  },
  {
   "cell_type": "code",
   "execution_count": null,
   "metadata": {},
   "outputs": [],
   "source": []
  }
 ],
 "metadata": {
  "kernelspec": {
   "display_name": "base",
   "language": "python",
   "name": "python3"
  },
  "language_info": {
   "codemirror_mode": {
    "name": "ipython",
    "version": 3
   },
   "file_extension": ".py",
   "mimetype": "text/x-python",
   "name": "python",
   "nbconvert_exporter": "python",
   "pygments_lexer": "ipython3",
   "version": "3.11.3"
  }
 },
 "nbformat": 4,
 "nbformat_minor": 2
}
